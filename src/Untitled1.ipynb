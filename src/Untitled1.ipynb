{
 "cells": [
  {
   "cell_type": "code",
   "execution_count": 1,
   "id": "earlier-produce",
   "metadata": {},
   "outputs": [],
   "source": [
    "import pandas as pd"
   ]
  },
  {
   "cell_type": "code",
   "execution_count": 2,
   "id": "amazing-thriller",
   "metadata": {},
   "outputs": [],
   "source": [
    "mnist_csv = pd.read_csv( './mnist_train.csv', header=None, skiprows=1).values"
   ]
  },
  {
   "cell_type": "code",
   "execution_count": 3,
   "id": "bacterial-booking",
   "metadata": {},
   "outputs": [
    {
     "data": {
      "text/plain": [
       "(60000, 785)"
      ]
     },
     "execution_count": 3,
     "metadata": {},
     "output_type": "execute_result"
    }
   ],
   "source": [
    "mnist_csv.shape"
   ]
  },
  {
   "cell_type": "code",
   "execution_count": 4,
   "id": "connected-vertex",
   "metadata": {},
   "outputs": [],
   "source": [
    "from sklearn.model_selection import train_test_split\n",
    "train, test = train_test_split( mnist_csv, test_size=0.3, random_state=1 )"
   ]
  },
  {
   "cell_type": "code",
   "execution_count": 5,
   "id": "expired-budapest",
   "metadata": {},
   "outputs": [
    {
     "name": "stdout",
     "output_type": "stream",
     "text": [
      "(42000, 784) (42000, 10)\n",
      "(18000, 784) (18000, 10)\n"
     ]
    }
   ],
   "source": [
    "from tensorflow.keras import utils\n",
    "Y_train, X_train = utils.to_categorical( train[:, 0] ), train[:, 1:]\n",
    "Y_test, X_test = utils.to_categorical(test[:, 0]), test[:, 1:]\n",
    "print( X_train.shape, Y_train.shape )\n",
    "print( X_test.shape, Y_test.shape )"
   ]
  },
  {
   "cell_type": "code",
   "execution_count": 6,
   "id": "accepting-barbados",
   "metadata": {},
   "outputs": [
    {
     "name": "stdout",
     "output_type": "stream",
     "text": [
      "[0. 0. 1. 0. 0. 0. 0. 0. 0. 0.]\n",
      "[0.         0.         0.         0.         0.         0.\n",
      " 0.         0.         0.         0.         0.         0.\n",
      " 0.         0.         0.         0.         0.         0.\n",
      " 0.         0.         0.         0.         0.         0.\n",
      " 0.         0.         0.         0.         0.         0.\n",
      " 0.         0.         0.         0.         0.         0.\n",
      " 0.         0.         0.         0.         0.         0.\n",
      " 0.         0.         0.         0.         0.         0.\n",
      " 0.         0.         0.         0.         0.         0.\n",
      " 0.         0.         0.         0.         0.         0.\n",
      " 0.         0.         0.         0.         0.         0.\n",
      " 0.         0.         0.         0.         0.         0.\n",
      " 0.         0.         0.         0.         0.         0.\n",
      " 0.         0.         0.         0.         0.         0.\n",
      " 0.         0.         0.         0.         0.         0.\n",
      " 0.         0.         0.         0.         0.         0.\n",
      " 0.         0.         0.         0.         0.         0.\n",
      " 0.         0.         0.         0.         0.         0.\n",
      " 0.         0.         0.         0.         0.         0.\n",
      " 0.         0.         0.23921569 0.49019608 0.49019608 0.96078431\n",
      " 1.         0.99607843 1.         1.         0.99607843 0.86666667\n",
      " 0.37647059 0.         0.         0.         0.         0.\n",
      " 0.         0.         0.         0.         0.         0.\n",
      " 0.         0.         0.         0.         0.         0.\n",
      " 0.49019608 0.99215686 0.99215686 0.80392157 0.52941176 0.52941176\n",
      " 0.52941176 0.6745098  0.99215686 0.99215686 0.98823529 0.60392157\n",
      " 0.14117647 0.         0.         0.         0.         0.\n",
      " 0.         0.         0.         0.         0.         0.\n",
      " 0.         0.         0.         0.         0.49019608 0.99215686\n",
      " 0.09019608 0.02745098 0.         0.         0.         0.01568627\n",
      " 0.04705882 0.29411765 0.99215686 0.99215686 0.86666667 0.36862745\n",
      " 0.         0.         0.         0.         0.         0.\n",
      " 0.         0.         0.         0.         0.         0.\n",
      " 0.         0.         0.03529412 0.0745098  0.00392157 0.\n",
      " 0.         0.         0.         0.         0.         0.01960784\n",
      " 0.19215686 0.87843137 0.99215686 0.98039216 0.32941176 0.\n",
      " 0.         0.         0.         0.         0.         0.\n",
      " 0.         0.         0.         0.         0.         0.\n",
      " 0.         0.         0.         0.         0.         0.\n",
      " 0.         0.         0.         0.         0.         0.17647059\n",
      " 0.8745098  0.99215686 0.8627451  0.14901961 0.         0.\n",
      " 0.         0.         0.         0.         0.         0.\n",
      " 0.         0.         0.         0.         0.         0.\n",
      " 0.         0.         0.         0.         0.         0.\n",
      " 0.         0.         0.         0.         0.24313725 0.99215686\n",
      " 0.99215686 0.56078431 0.         0.         0.         0.\n",
      " 0.         0.         0.         0.         0.         0.\n",
      " 0.         0.         0.         0.         0.         0.\n",
      " 0.         0.         0.         0.         0.         0.\n",
      " 0.         0.         0.02745098 0.49411765 0.8745098  0.9254902\n",
      " 0.1372549  0.         0.         0.         0.         0.\n",
      " 0.         0.         0.         0.         0.         0.\n",
      " 0.         0.         0.         0.         0.         0.\n",
      " 0.         0.         0.         0.         0.         0.\n",
      " 0.         0.         0.48627451 0.99215686 0.40784314 0.\n",
      " 0.         0.         0.         0.         0.         0.\n",
      " 0.         0.         0.         0.         0.         0.\n",
      " 0.         0.         0.         0.         0.         0.\n",
      " 0.         0.         0.         0.         0.         0.\n",
      " 0.12941176 0.99215686 0.40784314 0.         0.         0.\n",
      " 0.         0.         0.         0.         0.         0.\n",
      " 0.         0.         0.         0.         0.         0.\n",
      " 0.         0.         0.         0.         0.         0.\n",
      " 0.         0.         0.         0.         0.12941176 0.99215686\n",
      " 0.8        0.         0.         0.         0.         0.\n",
      " 0.         0.         0.         0.         0.         0.\n",
      " 0.         0.         0.         0.         0.         0.\n",
      " 0.         0.         0.         0.         0.         0.\n",
      " 0.         0.         0.12941176 0.99215686 0.91764706 0.\n",
      " 0.         0.         0.         0.         0.         0.\n",
      " 0.         0.         0.         0.         0.         0.\n",
      " 0.         0.         0.         0.         0.         0.\n",
      " 0.05882353 0.34117647 0.71764706 0.71764706 0.62352941 0.07058824\n",
      " 0.12941176 0.99215686 0.95686275 0.22352941 0.         0.\n",
      " 0.         0.         0.         0.         0.         0.\n",
      " 0.         0.         0.         0.         0.         0.\n",
      " 0.         0.06666667 0.18039216 0.6        0.77647059 0.99215686\n",
      " 0.99215686 0.99215686 0.99215686 0.78823529 0.72941176 0.99215686\n",
      " 0.91764706 0.         0.         0.         0.         0.\n",
      " 0.         0.         0.         0.         0.         0.\n",
      " 0.         0.         0.         0.         0.0627451  0.72156863\n",
      " 0.99215686 0.94509804 0.69411765 0.32941176 0.32941176 0.43529412\n",
      " 0.83921569 0.94117647 0.99215686 0.99215686 0.91764706 0.\n",
      " 0.         0.         0.         0.         0.         0.\n",
      " 0.         0.         0.         0.         0.         0.\n",
      " 0.         0.05490196 0.7254902  0.99215686 0.94901961 0.3372549\n",
      " 0.         0.         0.         0.         0.         0.23921569\n",
      " 0.69803922 0.99215686 0.96470588 0.60784314 0.         0.\n",
      " 0.         0.         0.         0.         0.         0.\n",
      " 0.         0.         0.         0.         0.         0.41176471\n",
      " 0.99215686 0.95686275 0.32941176 0.         0.         0.\n",
      " 0.         0.         0.         0.         0.44705882 0.99215686\n",
      " 0.99215686 0.97254902 0.6        0.05098039 0.         0.\n",
      " 0.         0.         0.         0.         0.         0.\n",
      " 0.         0.         0.         0.38039216 0.98431373 0.63529412\n",
      " 0.         0.         0.         0.         0.         0.\n",
      " 0.01568627 0.42352941 0.84705882 0.98431373 0.65098039 0.92156863\n",
      " 0.99215686 0.48235294 0.         0.         0.         0.\n",
      " 0.         0.         0.         0.         0.         0.\n",
      " 0.         0.         0.89411765 0.83921569 0.39607843 0.03921569\n",
      " 0.         0.         0.         0.03921569 0.48627451 0.99215686\n",
      " 0.98823529 0.58039216 0.         0.02352941 0.43137255 0.21176471\n",
      " 0.         0.         0.         0.         0.         0.\n",
      " 0.         0.         0.         0.         0.         0.\n",
      " 0.60784314 0.98823529 0.99215686 0.85098039 0.5372549  0.5372549\n",
      " 0.5372549  0.86666667 0.99215686 0.97647059 0.57647059 0.\n",
      " 0.         0.         0.         0.         0.         0.\n",
      " 0.         0.         0.         0.         0.         0.\n",
      " 0.         0.         0.         0.         0.         0.60392157\n",
      " 0.99215686 0.99215686 0.99215686 0.99215686 0.99215686 0.99215686\n",
      " 0.90196078 0.16078431 0.         0.         0.         0.\n",
      " 0.         0.         0.         0.         0.         0.\n",
      " 0.         0.         0.         0.         0.         0.\n",
      " 0.         0.         0.         0.         0.         0.\n",
      " 0.         0.         0.         0.         0.         0.\n",
      " 0.         0.         0.         0.         0.         0.\n",
      " 0.         0.         0.         0.         0.         0.\n",
      " 0.         0.         0.         0.         0.         0.\n",
      " 0.         0.         0.         0.         0.         0.\n",
      " 0.         0.         0.         0.         0.         0.\n",
      " 0.         0.         0.         0.         0.         0.\n",
      " 0.         0.         0.         0.         0.         0.\n",
      " 0.         0.         0.         0.         0.         0.\n",
      " 0.         0.         0.         0.         0.         0.\n",
      " 0.         0.         0.         0.         0.         0.\n",
      " 0.         0.         0.         0.         0.         0.\n",
      " 0.         0.         0.         0.         0.         0.\n",
      " 0.         0.         0.         0.         0.         0.\n",
      " 0.         0.         0.         0.         0.         0.\n",
      " 0.         0.         0.         0.         0.         0.\n",
      " 0.         0.         0.         0.        ]\n"
     ]
    }
   ],
   "source": [
    "X_train = (X_train - 0)/255 #normalize\n",
    "X_test = (X_test - 0)/255   #normalize\n",
    "print( Y_train[0] )\n",
    "print( X_train[0] )"
   ]
  },
  {
   "cell_type": "code",
   "execution_count": 19,
   "id": "steady-netherlands",
   "metadata": {},
   "outputs": [
    {
     "data": {
      "image/png": "[encoded data removed]",
      "text/plain": [
       "<Figure size 432x288 with 1 Axes>"
      ]
     },
     "metadata": {
      "needs_background": "light"
     },
     "output_type": "display_data"
    }
   ],
   "source": [
    "%matplotlib inline\n",
    "import matplotlib.pyplot as plt\n",
    "import numpy as np\n",
    "plt.imshow( np.reshape(X_train[0], (28, 28) ), cmap=plt.cm.Blues)\n",
    "plt.show()"
   ]
  },
  {
   "cell_type": "code",
   "execution_count": 8,
   "id": "basic-freight",
   "metadata": {},
   "outputs": [
    {
     "name": "stdout",
     "output_type": "stream",
     "text": [
      "Model: \"sequential\"\n",
      "_________________________________________________________________\n",
      "Layer (type)                 Output Shape              Param #   \n",
      "=================================================================\n",
      "dense (Dense)                (None, 512)               401920    \n",
      "_________________________________________________________________\n",
      "dense_1 (Dense)              (None, 256)               131328    \n",
      "_________________________________________________________________\n",
      "dense_2 (Dense)              (None, 10)                2570      \n",
      "=================================================================\n",
      "Total params: 535,818\n",
      "Trainable params: 535,818\n",
      "Non-trainable params: 0\n",
      "_________________________________________________________________\n"
     ]
    }
   ],
   "source": [
    "from tensorflow.keras.models import Sequential\n",
    "from tensorflow.keras.layers import Dense\n",
    "from tensorflow.keras.optimizers import SGD\n",
    "mlp_model = Sequential()\n",
    "mlp_model.add(Dense(512, activation='relu', input_shape=(784,)))\n",
    "mlp_model.add(Dense(256, activation='relu'))\n",
    "mlp_model.add(Dense(10, activation='softmax'))\n",
    "mlp_model.summary()"
   ]
  },
  {
   "cell_type": "code",
   "execution_count": 13,
   "id": "resident-harvey",
   "metadata": {},
   "outputs": [],
   "source": [
    "sgd = SGD(lr = 0.005 )\n",
    "mlp_model.compile(loss='categorical_crossentropy', optimizer=sgd, metrics=['accuracy'])"
   ]
  },
  {
   "cell_type": "code",
   "execution_count": 16,
   "id": "mediterranean-malawi",
   "metadata": {},
   "outputs": [
    {
     "name": "stdout",
     "output_type": "stream",
     "text": [
      "Epoch 1/15\n",
      "165/165 [==============================] - 2s 13ms/step - loss: 0.2652 - accuracy: 0.9257 - val_loss: 0.2771 - val_accuracy: 0.9217\n",
      "Epoch 2/15\n",
      "165/165 [==============================] - 2s 13ms/step - loss: 0.2621 - accuracy: 0.9260 - val_loss: 0.2745 - val_accuracy: 0.9217\n",
      "Epoch 3/15\n",
      "165/165 [==============================] - 2s 12ms/step - loss: 0.2589 - accuracy: 0.9270 - val_loss: 0.2717 - val_accuracy: 0.9233\n",
      "Epoch 4/15\n",
      "165/165 [==============================] - 2s 12ms/step - loss: 0.2559 - accuracy: 0.9280 - val_loss: 0.2688 - val_accuracy: 0.9235\n",
      "Epoch 5/15\n",
      "165/165 [==============================] - 2s 12ms/step - loss: 0.2530 - accuracy: 0.9290 - val_loss: 0.2666 - val_accuracy: 0.9247\n",
      "Epoch 6/15\n",
      "165/165 [==============================] - 2s 12ms/step - loss: 0.2502 - accuracy: 0.9290 - val_loss: 0.2642 - val_accuracy: 0.9247\n",
      "Epoch 7/15\n",
      "165/165 [==============================] - 2s 12ms/step - loss: 0.2475 - accuracy: 0.9304 - val_loss: 0.2611 - val_accuracy: 0.9256\n",
      "Epoch 8/15\n",
      "165/165 [==============================] - 2s 12ms/step - loss: 0.2447 - accuracy: 0.9310 - val_loss: 0.2589 - val_accuracy: 0.9262\n",
      "Epoch 9/15\n",
      "165/165 [==============================] - 2s 13ms/step - loss: 0.2423 - accuracy: 0.9314 - val_loss: 0.2569 - val_accuracy: 0.9268\n",
      "Epoch 10/15\n",
      "165/165 [==============================] - 2s 12ms/step - loss: 0.2397 - accuracy: 0.9322 - val_loss: 0.2538 - val_accuracy: 0.9273\n",
      "Epoch 11/15\n",
      "165/165 [==============================] - 2s 12ms/step - loss: 0.2371 - accuracy: 0.9329 - val_loss: 0.2520 - val_accuracy: 0.9281\n",
      "Epoch 12/15\n",
      "165/165 [==============================] - 2s 13ms/step - loss: 0.2347 - accuracy: 0.9337 - val_loss: 0.2494 - val_accuracy: 0.9294\n",
      "Epoch 13/15\n",
      "165/165 [==============================] - 2s 13ms/step - loss: 0.2324 - accuracy: 0.9337 - val_loss: 0.2479 - val_accuracy: 0.9290\n",
      "Epoch 14/15\n",
      "165/165 [==============================] - 2s 12ms/step - loss: 0.2302 - accuracy: 0.9349 - val_loss: 0.2455 - val_accuracy: 0.9293\n",
      "Epoch 15/15\n",
      "165/165 [==============================] - 2s 13ms/step - loss: 0.2278 - accuracy: 0.9358 - val_loss: 0.2448 - val_accuracy: 0.9302\n",
      "\n",
      "Completed.\n"
     ]
    }
   ],
   "source": [
    "model_history = mlp_model.fit(X_train, Y_train , epochs=15, batch_size=256,\n",
    "verbose=1, validation_data=(X_test, Y_test), shuffle=True)\n",
    "print( \"\\nCompleted.\")"
   ]
  },
  {
   "cell_type": "code",
   "execution_count": 17,
   "id": "million-annex",
   "metadata": {},
   "outputs": [
    {
     "name": "stdout",
     "output_type": "stream",
     "text": [
      "dict_keys(['loss', 'accuracy', 'val_loss', 'val_accuracy'])\n"
     ]
    }
   ],
   "source": [
    "print( model_history.history.keys() )"
   ]
  },
  {
   "cell_type": "markdown",
   "id": "chinese-elder",
   "metadata": {},
   "source": [
    "Plot loss curve"
   ]
  },
  {
   "cell_type": "code",
   "execution_count": 18,
   "id": "identified-scottish",
   "metadata": {},
   "outputs": [
    {
     "data": {
      "image/png": "[encoded data removed]",
      "text/plain": [
       "<Figure size 432x288 with 1 Axes>"
      ]
     },
     "metadata": {
      "needs_background": "light"
     },
     "output_type": "display_data"
    }
   ],
   "source": [
    "plt.plot( model_history.history['loss'])\n",
    "plt.plot( model_history.history['val_loss'])\n",
    "plt.title( 'model loss' )\n",
    "plt.ylabel( 'loss' )\n",
    "plt.xlabel( 'epoch' )\n",
    "plt.legend( ['train', 'test'], loc='right' )\n",
    "plt.show()"
   ]
  },
  {
   "cell_type": "markdown",
   "id": "irish-staff",
   "metadata": {},
   "source": [
    "Plot accuracy curve"
   ]
  },
  {
   "cell_type": "code",
   "execution_count": 20,
   "id": "norman-nickel",
   "metadata": {},
   "outputs": [
    {
     "data": {
      "image/png": "[encoded data removed]",
      "text/plain": [
       "<Figure size 432x288 with 1 Axes>"
      ]
     },
     "metadata": {
      "needs_background": "light"
     },
     "output_type": "display_data"
    }
   ],
   "source": [
    "plt.plot( model_history.history['accuracy'])\n",
    "plt.plot( model_history.history['val_accuracy'])\n",
    "plt.title( 'model accuracy' )\n",
    "plt.ylabel( 'accuracy' )\n",
    "plt.xlabel( 'epoch' )\n",
    "plt.legend( ['train', 'test'], loc='right' )\n",
    "plt.show()"
   ]
  },
  {
   "cell_type": "code",
   "execution_count": 37,
   "id": "selective-humor",
   "metadata": {},
   "outputs": [],
   "source": [
    "from sklearn.metrics import confusion_matrix\n",
    "import itertools\n",
    "\n",
    "def plot_confusion_matrix( model_input , feature, label, class_info ) :\n",
    "    pred = model_input.predict ( feature )\n",
    "    cnf_matrix = confusion_matrix( np.argmax(label, axis=1), np.argmax(pred,axis=1))\n",
    "    plt.figure()\n",
    "    plt.imshow( cnf_matrix , interpolation='nearest', cmap=plt.cm.Blues )\n",
    "    tick_marks = np.arange( len(class_info) )\n",
    "    plt.xticks( tick_marks, class_info, rotation=45)\n",
    "    plt.yticks( tick_marks, class_info )\n",
    "    thresh = cnf_matrix.max() / 2.0\n",
    "    for i, j in itertools.product( range(cnf_matrix.shape[0]), range(cnf_matrix.shape[1]) ) :\n",
    "        plt.text( j, i, cnf_matrix[i, j], horizontalalignment=\"center\", \n",
    "                 color=\"white\" if cnf_matrix[i, j] > thresh else \"black\" )\n",
    "    plt.tight_layout()\n",
    "    plt.ylabel( \"True label\" )\n",
    "    plt.xlabel( \"Predicted label\" )\n",
    "    plt.show()"
   ]
  },
  {
   "cell_type": "code",
   "execution_count": 38,
   "id": "swedish-underwear",
   "metadata": {},
   "outputs": [
    {
     "data": {
      "image/png": "[encoded data removed]",
      "text/plain": [
       "<Figure size 432x288 with 1 Axes>"
      ]
     },
     "metadata": {
      "needs_background": "light"
     },
     "output_type": "display_data"
    }
   ],
   "source": [
    "label = ['0','1','2','3','4','5','6','7','8','9']\n",
    "plot_confusion_matrix( mlp_model , X_test , Y_test , class_info=label)"
   ]
  }
 ],
 "metadata": {
  "kernelspec": {
   "display_name": "Python 3",
   "language": "python",
   "name": "python3"
  },
  "language_info": {
   "codemirror_mode": {
    "name": "ipython",
    "version": 3
   },
   "file_extension": ".py",
   "mimetype": "text/x-python",
   "name": "python",
   "nbconvert_exporter": "python",
   "pygments_lexer": "ipython3",
   "version": "3.8.8"
  }
 },
 "nbformat": 4,
 "nbformat_minor": 5
}
